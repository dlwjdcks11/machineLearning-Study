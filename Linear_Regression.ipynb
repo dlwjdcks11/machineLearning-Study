{
  "nbformat": 4,
  "nbformat_minor": 0,
  "metadata": {
    "colab": {
      "name": "Linear_Regression.ipynb",
      "provenance": [],
      "collapsed_sections": []
    },
    "kernelspec": {
      "name": "python3",
      "display_name": "Python 3.8.6 64-bit ('DeepLab': conda)",
      "metadata": {
        "interpreter": {
          "hash": "db0eeb7783847ec567145e89cfbe0c91f49ba9e7418bab2b1ad86be80bb7c836"
        }
      }
    }
  },
  "cells": [
    {
      "cell_type": "code",
      "metadata": {
        "id": "oHxQbKZci27E",
        "colab": {
          "base_uri": "https://localhost:8080/"
        },
        "outputId": "43087bc5-0262-4329-f163-0c20cb39d6a0"
      },
      "source": [
        "!pip3 install torch # 로컬에서 pytorch Library를 이용하기 위해 설치"
      ],
      "execution_count": null,
      "outputs": [
        {
          "output_type": "stream",
          "text": [
            "Requirement already satisfied: torch in /usr/local/lib/python3.6/dist-packages (1.7.0+cu101)\n",
            "Requirement already satisfied: typing-extensions in /usr/local/lib/python3.6/dist-packages (from torch) (3.7.4.3)\n",
            "Requirement already satisfied: future in /usr/local/lib/python3.6/dist-packages (from torch) (0.16.0)\n",
            "Requirement already satisfied: dataclasses in /usr/local/lib/python3.6/dist-packages (from torch) (0.8)\n",
            "Requirement already satisfied: numpy in /usr/local/lib/python3.6/dist-packages (from torch) (1.19.5)\n"
          ],
          "name": "stdout"
        }
      ]
    },
    {
      "cell_type": "code",
      "metadata": {
        "id": "g90d_JwFi8I7"
      },
      "source": [
        "import torch \n",
        "import torch.nn as nn # Linear Regression을 이용할 클래스에 상속시키기 위하여 torch.nn을 import한다. 내부에는 ReLU, Softmax 등의 활성함수를 만들기 위한 함수가 존재한다.\n",
        "import matplotlib.pyplot as plt # 그래프를 그리기 위한 matplotlib import\n",
        "import numpy as np # numpy import"
      ],
      "execution_count": 1,
      "outputs": []
    },
    {
      "cell_type": "code",
      "metadata": {
        "id": "BkdXhIlXvKzM",
        "colab": {
          "base_uri": "https://localhost:8080/",
          "height": 298
        },
        "outputId": "be597a1a-f99e-4859-fcb7-fca0b787af91"
      },
      "source": [
        "X = torch.randn(100, 1)*10 # 가우시안 정규분포 난수값 * 10 으로 초기화된 100 x 1 꼴의 tensor 생성, 데이터셋 역할을 할 것이다.\n",
        "y = X + 3*torch.randn(100, 1) # 가우시안 정규분포 난수값 * 3 + X로 초기화된 100 x 1 꼴의 tensor 생성, target 역할을 할 것이다.\n",
        "plt.plot(X.numpy(), y.numpy(), 'o') # 동그란 점을 찍어서 X와 y에 대한 그래프를 그릴 것이다.\n",
        "plt.ylabel('y')\n",
        "plt.xlabel('x') # 범례 이름짓기"
      ],
      "execution_count": 5,
      "outputs": [
        {
          "output_type": "execute_result",
          "data": {
            "text/plain": [
              "Text(0.5, 0, 'x')"
            ]
          },
          "metadata": {
            "tags": []
          },
          "execution_count": 5
        },
        {
          "output_type": "display_data",
          "data": {
            "image/png": "[encoded data removed]",
            "text/plain": [
              "<Figure size 432x288 with 1 Axes>"
            ]
          },
          "metadata": {
            "tags": [],
            "needs_background": "light"
          }
        }
      ]
    },
    {
      "cell_type": "code",
      "metadata": {
        "id": "Voo3RX1IYz21"
      },
      "source": [
        "class LR(nn.Module): # Linear, ReLU 등의 함수를 사용하기 위해 상속받는다. 딥러닝을 할 때에는 반드시 상속받고 시작해야 한다.\n",
        "  def __init__(self, input_size, output_size):\n",
        "    super().__init__() # 필수적인 부모 생성자(nn.Module의 생성자) 실행\n",
        "    self.linear = nn.Linear(input_size, output_size) # 입력과 출력 특성의 개수를 매개변수로 받아서 선형변환의 Model을 만들어 준다.\n",
        "  def forward(self, x): # 반드시 포함되어야 할 forward 함수이다. 다음 특성으로 계속 진행하며 오차를 줄여나가는 역할을 한다.\n",
        "    pred = self.linear(x) # 입력받은 값에 대하여 다시 선형변환 실행\n",
        "    return pred # 선형변환 된 값 반환"
      ],
      "execution_count": 20,
      "outputs": []
    },
    {
      "cell_type": "code",
      "metadata": {
        "id": "PeyVS6V_aBfy",
        "colab": {
          "base_uri": "https://localhost:8080/"
        },
        "outputId": "3342b30c-b40a-4a5c-ca1b-814d69bfd8f9"
      },
      "source": [
        "torch.manual_seed(1) # torch의 랜덤성을 통제해 주기 위해 선언해 주어야 한다. 이렇게 manual_seed를 선언해 두면 CPU를 통해 계산하는 무작위 연산은 모두 고정된 값이 나오게 된다.\n",
        "model = LR(1, 1) # 입력 특성 1개, 출력 특성 1개의 model 생성\n",
        "print(model) # model의 특성 보기 위한 출력"
      ],
      "execution_count": 55,
      "outputs": [
        {
          "output_type": "stream",
          "text": [
            "LR(\n",
            "  (linear): Linear(in_features=1, out_features=1, bias=True)\n",
            ")\n"
          ],
          "name": "stdout"
        }
      ]
    },
    {
      "cell_type": "code",
      "metadata": {
        "id": "e1HHLRTbaeZF",
        "colab": {
          "base_uri": "https://localhost:8080/"
        },
        "outputId": "84b2a555-348d-4760-c4d4-75b0a0089ce4"
      },
      "source": [
        "[w, b] = model.parameters() # 모델의 학습 가능한 매개변수들을 반환하는 parameters() 함수, weight(기울기)와 bias(노이즈)를 반환한다.\n",
        "def get_params():\n",
        "  return (w[0][0].item(), b[0].item()) # weight랑 bias가 한개씩이니까 그냥 첫번째 요소 반환"
      ],
      "execution_count": 56,
      "outputs": [
        {
          "output_type": "stream",
          "text": [
            "<class 'torch.nn.parameter.Parameter'> torch.Size([1, 1])\n",
            "<class 'torch.nn.parameter.Parameter'> torch.Size([1])\n"
          ],
          "name": "stdout"
        }
      ]
    },
    {
      "cell_type": "code",
      "metadata": {
        "id": "x1bjDI3vxEmd"
      },
      "source": [
        "def plot_fit(title): # 그래프 그리는 함수\n",
        "  plt.title = title\n",
        "  w1, b1 = get_params() # 매개변수 반환\n",
        "  x1 = np.array([-30, 30]) # np array 생성\n",
        "  y1 = w1*x1 + b1 # 반환받은 weight와 bias를 이용해 일차함수의 모델을 만들어 준다.\n",
        "  plt.plot(x1, y1, 'r') # 빨간색 선으로 그린다.\n",
        "  plt.scatter(X, y) # 산포그래프 그리기\n",
        "  plt.show()"
      ],
      "execution_count": 57,
      "outputs": []
    },
    {
      "cell_type": "code",
      "metadata": {
        "id": "wYEJKbTEy2Ci",
        "colab": {
          "base_uri": "https://localhost:8080/",
          "height": 265
        },
        "outputId": "d8f0abf1-096f-40de-d81b-578e4b25ec84"
      },
      "source": [
        "plot_fit('Initial Model')"
      ],
      "execution_count": 9,
      "outputs": [
        {
          "output_type": "display_data",
          "data": {
            "image/png": "[encoded data removed]",
            "text/plain": [
              "<Figure size 432x288 with 1 Axes>"
            ]
          },
          "metadata": {
            "tags": [],
            "needs_background": "light"
          }
        }
      ]
    },
    {
      "cell_type": "code",
      "metadata": {
        "id": "4Z9-HIA0y5S7"
      },
      "source": [
        "criterion = nn.MSELoss() # Mean Sqaured Error를 구하기 위한 함수, 매개변수 두개를 받아서 ((예측값) - (정답))^2의 총 합을 반환한다.\n",
        "optimizer = torch.optim.SGD(model.parameters(), lr = 0.01) \n",
        "# 모델의 가중치를 갱신할 optimizer를 만든다. 확률적 경사 하강법(SGD)을 이용하며, Local Mimimum에 도달하기 위한 lr(Learning Rate) 매개변수도 적절한 값으로 설정해 주어야 한다.\n",
        "# 값이 너무 크면 값이 무질서하게 움직이거나, 발산을 하고, 너무 작으면 최저점에 도달하기 까지 시간이 너무 오래 걸릴 수 있으니 적절하게 설정해 주어야 한다."
      ],
      "execution_count": 16,
      "outputs": []
    },
    {
      "cell_type": "code",
      "metadata": {
        "id": "wu4Qzn3PCeJ9",
        "colab": {
          "base_uri": "https://localhost:8080/"
        },
        "outputId": "ee062ca5-40fd-4bce-f9c1-c1c84808c0ed"
      },
      "source": [
        "epochs = 100 # 몇번의 반복을 할건지 epoch 설정\n",
        "losses = [] # loss를 담을 tensor 생성\n",
        "for i in range(epochs): # 100번만큼 돌면서 forward와 backward를 실행한다.\n",
        "  y_pred = model.forward(X) # 현재 데이터의 다음 선형변환 값 반환\n",
        "  loss = criterion(y_pred, y) # 정답과의 MSELoss를 구한다.\n",
        "  print(\"epoch:\", i, \"loss:\", loss.item()) # i번째 시도에 대한 손실율(loss) 출력\n",
        "  \n",
        "  losses.append(loss) # 배열에 요소 추가\n",
        "  optimizer.zero_grad() # 반드시 추가해야 하는 함수이다. zero_grad()가 없다면 변화율이 계속 누적되기 때문에, zero_grad() 함수로 다음 backward 진행 전에 변화율을 0으로 초기화해줘야 한다. \n",
        "  loss.backward() # 손실율을 매개변수(가중치)로 역전파\n",
        "  optimizer.step() # 가중치 갱신"
      ],
      "execution_count": 61,
      "outputs": [
        {
          "output_type": "stream",
          "text": [
            "epoch: 0 loss: 35.384979248046875\n",
            "epoch: 1 loss: 35.384979248046875\n",
            "epoch: 2 loss: 35.384979248046875\n",
            "epoch: 3 loss: 35.384979248046875\n",
            "epoch: 4 loss: 35.384979248046875\n",
            "epoch: 5 loss: 35.384979248046875\n",
            "epoch: 6 loss: 35.384979248046875\n",
            "epoch: 7 loss: 35.384979248046875\n",
            "epoch: 8 loss: 35.384979248046875\n",
            "epoch: 9 loss: 35.384979248046875\n",
            "epoch: 10 loss: 35.384979248046875\n",
            "epoch: 11 loss: 35.384979248046875\n",
            "epoch: 12 loss: 35.384979248046875\n",
            "epoch: 13 loss: 35.384979248046875\n",
            "epoch: 14 loss: 35.384979248046875\n",
            "epoch: 15 loss: 35.384979248046875\n",
            "epoch: 16 loss: 35.384979248046875\n",
            "epoch: 17 loss: 35.384979248046875\n",
            "epoch: 18 loss: 35.384979248046875\n",
            "epoch: 19 loss: 35.384979248046875\n",
            "epoch: 20 loss: 35.384979248046875\n",
            "epoch: 21 loss: 35.384979248046875\n",
            "epoch: 22 loss: 35.384979248046875\n",
            "epoch: 23 loss: 35.384979248046875\n",
            "epoch: 24 loss: 35.384979248046875\n",
            "epoch: 25 loss: 35.384979248046875\n",
            "epoch: 26 loss: 35.384979248046875\n",
            "epoch: 27 loss: 35.384979248046875\n",
            "epoch: 28 loss: 35.384979248046875\n",
            "epoch: 29 loss: 35.384979248046875\n",
            "epoch: 30 loss: 35.384979248046875\n",
            "epoch: 31 loss: 35.384979248046875\n",
            "epoch: 32 loss: 35.384979248046875\n",
            "epoch: 33 loss: 35.384979248046875\n",
            "epoch: 34 loss: 35.384979248046875\n",
            "epoch: 35 loss: 35.384979248046875\n",
            "epoch: 36 loss: 35.384979248046875\n",
            "epoch: 37 loss: 35.384979248046875\n",
            "epoch: 38 loss: 35.384979248046875\n",
            "epoch: 39 loss: 35.384979248046875\n",
            "epoch: 40 loss: 35.384979248046875\n",
            "epoch: 41 loss: 35.384979248046875\n",
            "epoch: 42 loss: 35.384979248046875\n",
            "epoch: 43 loss: 35.384979248046875\n",
            "epoch: 44 loss: 35.384979248046875\n",
            "epoch: 45 loss: 35.384979248046875\n",
            "epoch: 46 loss: 35.384979248046875\n",
            "epoch: 47 loss: 35.384979248046875\n",
            "epoch: 48 loss: 35.384979248046875\n",
            "epoch: 49 loss: 35.384979248046875\n",
            "epoch: 50 loss: 35.384979248046875\n",
            "epoch: 51 loss: 35.384979248046875\n",
            "epoch: 52 loss: 35.384979248046875\n",
            "epoch: 53 loss: 35.384979248046875\n",
            "epoch: 54 loss: 35.384979248046875\n",
            "epoch: 55 loss: 35.384979248046875\n",
            "epoch: 56 loss: 35.384979248046875\n",
            "epoch: 57 loss: 35.384979248046875\n",
            "epoch: 58 loss: 35.384979248046875\n",
            "epoch: 59 loss: 35.384979248046875\n",
            "epoch: 60 loss: 35.384979248046875\n",
            "epoch: 61 loss: 35.384979248046875\n",
            "epoch: 62 loss: 35.384979248046875\n",
            "epoch: 63 loss: 35.384979248046875\n",
            "epoch: 64 loss: 35.384979248046875\n",
            "epoch: 65 loss: 35.384979248046875\n",
            "epoch: 66 loss: 35.384979248046875\n",
            "epoch: 67 loss: 35.384979248046875\n",
            "epoch: 68 loss: 35.384979248046875\n",
            "epoch: 69 loss: 35.384979248046875\n",
            "epoch: 70 loss: 35.384979248046875\n",
            "epoch: 71 loss: 35.384979248046875\n",
            "epoch: 72 loss: 35.384979248046875\n",
            "epoch: 73 loss: 35.384979248046875\n",
            "epoch: 74 loss: 35.384979248046875\n",
            "epoch: 75 loss: 35.384979248046875\n",
            "epoch: 76 loss: 35.384979248046875\n",
            "epoch: 77 loss: 35.384979248046875\n",
            "epoch: 78 loss: 35.384979248046875\n",
            "epoch: 79 loss: 35.384979248046875\n",
            "epoch: 80 loss: 35.384979248046875\n",
            "epoch: 81 loss: 35.384979248046875\n",
            "epoch: 82 loss: 35.384979248046875\n",
            "epoch: 83 loss: 35.384979248046875\n",
            "epoch: 84 loss: 35.384979248046875\n",
            "epoch: 85 loss: 35.384979248046875\n",
            "epoch: 86 loss: 35.384979248046875\n",
            "epoch: 87 loss: 35.384979248046875\n",
            "epoch: 88 loss: 35.384979248046875\n",
            "epoch: 89 loss: 35.384979248046875\n",
            "epoch: 90 loss: 35.384979248046875\n",
            "epoch: 91 loss: 35.384979248046875\n",
            "epoch: 92 loss: 35.384979248046875\n",
            "epoch: 93 loss: 35.384979248046875\n",
            "epoch: 94 loss: 35.384979248046875\n",
            "epoch: 95 loss: 35.384979248046875\n",
            "epoch: 96 loss: 35.384979248046875\n",
            "epoch: 97 loss: 35.384979248046875\n",
            "epoch: 98 loss: 35.384979248046875\n",
            "epoch: 99 loss: 35.384979248046875\n"
          ],
          "name": "stdout"
        }
      ]
    },
    {
      "cell_type": "code",
      "metadata": {
        "id": "j3D-8o6MDXO9",
        "colab": {
          "base_uri": "https://localhost:8080/",
          "height": 298
        },
        "outputId": "fd2f8684-9eac-41e4-be48-8d4f6384b2dd"
      },
      "source": [
        "plt.plot(range(epochs), losses)\n",
        "plt.ylabel('Loss')\n",
        "plt.xlabel('epoch')\n",
        "# 그래프 그리기, 원래라면 epoch이 올라갈 수록 Loss가 감소하는 모양이 나와야 할 것이다."
      ],
      "execution_count": 63,
      "outputs": [
        {
          "output_type": "execute_result",
          "data": {
            "text/plain": [
              "Text(0.5, 0, 'epoch')"
            ]
          },
          "metadata": {
            "tags": []
          },
          "execution_count": 63
        },
        {
          "output_type": "display_data",
          "data": {
            "image/png": "[encoded data removed]",
            "text/plain": [
              "<Figure size 432x288 with 1 Axes>"
            ]
          },
          "metadata": {
            "tags": [],
            "needs_background": "light"
          }
        }
      ]
    },
    {
      "cell_type": "code",
      "metadata": {
        "id": "VwsPWhWJFONF",
        "colab": {
          "base_uri": "https://localhost:8080/",
          "height": 265
        },
        "outputId": "99e72dd6-96ce-4460-fb1a-a4cc60bbeb25"
      },
      "source": [
        "plot_fit(\"Trained Model\")\r\n",
        "# 학습된 모델에 대한 그래프. 제대로 작동 했다면 모델이 학습 데이터에 맞게 잘 나온것을 확인할 수 있을 것이다."
      ],
      "execution_count": 64,
      "outputs": [
        {
          "output_type": "display_data",
          "data": {
            "image/png": "[encoded data removed]",
            "text/plain": [
              "<Figure size 432x288 with 1 Axes>"
            ]
          },
          "metadata": {
            "tags": [],
            "needs_background": "light"
          }
        }
      ]
    },
    {
      "cell_type": "code",
      "metadata": {
        "id": "Eyc77EKUFYgZ"
      },
      "source": [
        ""
      ],
      "execution_count": null,
      "outputs": []
    }
  ]
}