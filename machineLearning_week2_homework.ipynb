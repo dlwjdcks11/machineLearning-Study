{
 "cells": [
  {
   "cell_type": "code",
   "execution_count": 90,
   "metadata": {},
   "outputs": [],
   "source": [
    "import os\n",
    "import csv\n",
    "import numpy as np\n",
    "from sklearn.linear_model import LogisticRegression\n",
    "\n",
    "np.set_printoptions(suppress=True, formatter={'float_kind':'{:f}'.format})\n",
    "dir_path = os.path.join(os.getcwd())\n",
    "f = open(os.path.join(dir_path, 'train\\X_train.txt'), 'r', encoding='utf-8')\n",
    "rdr = csv.reader(f)\n",
    "\n",
    "arr_Xtrain = []\n",
    "for line in rdr:\n",
    "    tmp = ''.join(line)\n",
    "    wordList = tmp.split()\n",
    "    for idx, word in enumerate(wordList):\n",
    "        wordList[idx] = float(wordList[idx])\n",
    "    arr_Xtrain.append(wordList)\n",
    "    #arr_Xtrain.append(line)\n",
    "Xtrain = np.array(arr_Xtrain)\n",
    "f.close()"
   ]
  },
  {
   "cell_type": "code",
   "execution_count": 87,
   "metadata": {},
   "outputs": [],
   "source": [
    "f = open(os.path.join(dir_path, 'train\\y_train.txt'), 'r', encoding='utf-8')\n",
    "rdr = csv.reader(f)\n",
    "\n",
    "arr_ytrain = []\n",
    "for line in rdr:\n",
    "    arr_ytrain.append(int(line[0]))\n",
    "    \n",
    "y = np.array(arr_ytrain)\n",
    "ytrain = y.flatten()\n",
    "f.close()"
   ]
  },
  {
   "cell_type": "code",
   "execution_count": 89,
   "metadata": {},
   "outputs": [],
   "source": [
    "f = open(os.path.join(dir_path, 'test\\X_test.txt'), 'r', encoding='utf-8')\n",
    "rdr = csv.reader(f)\n",
    "\n",
    "arr_Xtest = []\n",
    "for line in rdr:\n",
    "    tmp = ''.join(line)\n",
    "    wordList = tmp.split()\n",
    "    for idx, word in enumerate(wordList):\n",
    "        wordList[idx] = float(wordList[idx])\n",
    "    arr_Xtest.append(wordList)\n",
    "\n",
    "Xtest = np.array(arr_Xtest)\n",
    "f.close()"
   ]
  },
  {
   "cell_type": "code",
   "execution_count": 88,
   "metadata": {},
   "outputs": [],
   "source": [
    "f = open(os.path.join(dir_path, 'test\\y_test.txt'), 'r', encoding='utf-8')\n",
    "rdr = csv.reader(f)\n",
    "\n",
    "arr_ytest = []\n",
    "for line in rdr:\n",
    "    arr_ytest.append(int(line[0]))\n",
    "    \n",
    "y = np.array(arr_ytest)\n",
    "ytest = y.flatten()\n",
    "f.close()"
   ]
  },
  {
   "cell_type": "code",
   "execution_count": 86,
   "metadata": {},
   "outputs": [
    {
     "data": {
      "text/plain": [
       "0.9613165931455717"
      ]
     },
     "execution_count": 86,
     "metadata": {},
     "output_type": "execute_result"
    }
   ],
   "source": [
    "softReg = LogisticRegression(multi_class = 'multinomial', solver = 'lbfgs', max_iter=8000)\n",
    "softReg.fit(Xtrain, ytrain)\n",
    "softReg.score(Xtest, ytest)"
   ]
  }
 ],
 "metadata": {
  "kernelspec": {
   "display_name": "Python 3",
   "language": "python",
   "name": "python3"
  },
  "language_info": {
   "codemirror_mode": {
    "name": "ipython",
    "version": 3
   },
   "file_extension": ".py",
   "mimetype": "text/x-python",
   "name": "python",
   "nbconvert_exporter": "python",
   "pygments_lexer": "ipython3",
   "version": "3.7.6"
  }
 },
 "nbformat": 4,
 "nbformat_minor": 4
}
